{
 "cells": [
  {
   "cell_type": "code",
   "execution_count": 1,
   "id": "c2e9e70b",
   "metadata": {},
   "outputs": [],
   "source": [
    "# importing libraries\n",
    "import tweepy\n",
    "from textblob import TextBlob\n",
    "import pandas as pd\n",
    "import numpy as np\n",
    "import re\n",
    "import time\n",
    "import matplotlib.pyplot as plt\n",
    "plt.style.use('fivethirtyeight')"
   ]
  },
  {
   "cell_type": "code",
   "execution_count": 3,
   "id": "97dfad25",
   "metadata": {},
   "outputs": [],
   "source": [
    "client = tweepy.Client(bearer_token=\"AAAAAAAAAAAAAAAAAAAAAOg7kwEAAAAAe9eBK0l%2BZaY1FMLIPt34PuuF7H0%3DrDjG35ZrN0B4czpmu2hQ2Nj9MA1tYFyazWbihd6KChHmB929HB\")"
   ]
  },
  {
   "cell_type": "code",
   "execution_count": 9,
   "id": "a9cd526d",
   "metadata": {},
   "outputs": [
    {
     "name": "stdout",
     "output_type": "stream",
     "text": [
      "\n",
      "@thechrisdenker @netflix Chris Danger Netflix Exclusive Pro-Wrestling show???👀👀👀\n",
      "\n",
      "Maybe?\n",
      "\n",
      "@SimonDavisBarry @netflix @deengli we're going to follow you anywhere so maybe you can sell it to other platforms too #SaveWarriorNun https://t.co/kyXMDhMfxy\n",
      "\n",
      "Hey @netflix in fact the music was tango. Do you think Americans can’t tell the difference between tango and jazz? So you invent a new sub genre called accordion jazz!!! Genius! https://t.co/wPbyKWguVR\n",
      "\n",
      "@CaboWabo34 This Show is great btw well worth the subscription by itself, Well done @Netflix casting was superb.\n",
      "\n",
      "https://t.co/2Qn1fXO8bg\n",
      "\n",
      "Sign me up to teach the Sociology of Alice in Borderland! So much material that could be used to teach sociological concepts! @netflix only needs to agree to give students access to the show. Let me know @netflix! https://t.co/q5fQKrrQfE\n",
      "\n",
      "@netflix In 2022, the quality of the series has increased, and I think that the series are now made with more quality and accuracy, which is attractive to me.\n",
      "\n",
      "@netflix C'mon, you know what we all want you to do, it's gonna even more cost effective with Spain's new tax incentives, so just do it already. #SaveWarriorNun https://t.co/IBc3bDx52l\n",
      "\n",
      "@netflix #SaveWarriorNun !!\n",
      "\n",
      "@netflix @lilycollins yes\n",
      "\n",
      "Great Article on  Meghan Markle...spot on...but...\n",
      "\n",
      "@elonmusk is NOT a \"Narcissist\"\n",
      "\n",
      "Opinion | 2022 Is the Year We All Finally Got Tired of Narcissists\n",
      "\n",
      "@politico\n",
      "@POLITICOEurope\n",
      "@politicony\n",
      "@JoannaWeiss\n",
      " https://t.co/YCEXCJEs3V via @politico\n",
      "@netflix\n",
      "#MeghanAndHarry\n"
     ]
    }
   ],
   "source": [
    "search_term = '@netflix -is:retweet'\n",
    "tweets = client.search_recent_tweets(query=search_term, max_results=10)\n",
    "for i in tweets.data:\n",
    "    print('\\n' + i.text)"
   ]
  },
  {
   "cell_type": "code",
   "execution_count": null,
   "id": "610fae2c",
   "metadata": {},
   "outputs": [],
   "source": []
  }
 ],
 "metadata": {
  "kernelspec": {
   "display_name": "base",
   "language": "python",
   "name": "python3"
  },
  "language_info": {
   "codemirror_mode": {
    "name": "ipython",
    "version": 3
   },
   "file_extension": ".py",
   "mimetype": "text/x-python",
   "name": "python",
   "nbconvert_exporter": "python",
   "pygments_lexer": "ipython3",
   "version": "3.9.12 (main, Apr  5 2022, 01:53:17) \n[Clang 12.0.0 ]"
  },
  "vscode": {
   "interpreter": {
    "hash": "59f5bd339b72335cff3a152ec8500feca151263b290f2f1d939e7819166d40b1"
   }
  }
 },
 "nbformat": 4,
 "nbformat_minor": 5
}
